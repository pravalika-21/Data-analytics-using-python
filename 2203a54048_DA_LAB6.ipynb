{
  "nbformat": 4,
  "nbformat_minor": 0,
  "metadata": {
    "colab": {
      "provenance": []
    },
    "kernelspec": {
      "name": "python3",
      "display_name": "Python 3"
    },
    "language_info": {
      "name": "python"
    }
  },
  "cells": [
    {
      "cell_type": "code",
      "execution_count": 1,
      "metadata": {
        "colab": {
          "base_uri": "https://localhost:8080/"
        },
        "id": "hEr8YrZJMdIh",
        "outputId": "e63a1f56-0c64-4bbf-c472-4c2f17176eed"
      },
      "outputs": [
        {
          "output_type": "stream",
          "name": "stdout",
          "text": [
            "Index(['Invoice ID', 'Branch', 'City', 'Customer type', 'Gender',\n",
            "       'Product line', 'Unit price', 'Quantity', 'Tax 5%', 'Total', 'Date',\n",
            "       'Time', 'Payment', 'cogs', 'gross margin percentage', 'gross income',\n",
            "       'Rating'],\n",
            "      dtype='object')\n"
          ]
        }
      ],
      "source": [
        "import pandas as pd\n",
        "import math\n",
        "df = pd.read_csv('/content/supermarket_sales -.csv')\n",
        "print(df.columns)\n",
        "df.columns = df.columns.str.strip().str.lower()"
      ]
    },
    {
      "cell_type": "code",
      "source": [
        "A = df[df['customer type'] == 'Member']\n",
        "B = df[df['payment'] == 'Credit Card']"
      ],
      "metadata": {
        "id": "8cxsZo9eMo8n"
      },
      "execution_count": 2,
      "outputs": []
    },
    {
      "cell_type": "code",
      "source": [
        "total_transactions = len(df)\n",
        "P_A = len(A) / total_transactions\n",
        "P_B = len(B) / total_transactions\n",
        "P_A_and_B = len(df[(df['customer type'] == 'Member') & (df['payment'] == 'Credit Card')]) / total_transactions\n",
        "P_A_or_B = P_A + P_B - P_A_and_B\n",
        "P_A_given_B = P_A_and_B / P_B if P_B != 0 else 0\n",
        "\n",
        "print(f'P(A): {P_A}')\n",
        "print(f'P(B): {P_B}')\n",
        "print(f'P(A ∪ B): {P_A_or_B}')\n",
        "print(f'P(A ∩ B): {P_A_and_B}')\n",
        "print(f'P(A | B): {P_A_given_B}')"
      ],
      "metadata": {
        "colab": {
          "base_uri": "https://localhost:8080/"
        },
        "id": "B1qAHiilMpva",
        "outputId": "9a1357d9-1cc1-4e42-9aa1-1e8aded7f8e8"
      },
      "execution_count": 3,
      "outputs": [
        {
          "output_type": "stream",
          "name": "stdout",
          "text": [
            "P(A): 0.501\n",
            "P(B): 0.0\n",
            "P(A ∪ B): 0.501\n",
            "P(A ∩ B): 0.0\n",
            "P(A | B): 0\n"
          ]
        }
      ]
    },
    {
      "cell_type": "code",
      "source": [
        "P_Health_Beauty = len(df[df['product line'] == 'Health & Beauty']) / total_transactions\n",
        "P_more_than_5_given_Ewallet = len(df[(df['payment'] == 'Ewallet') & (df['quantity'] > 5)]) / len(df[df['payment'] == 'Ewallet'])\n",
        "P_Cash_Yangon = len(df[(df['city'] == 'Yangon') & (df['payment'] == 'Cash')]) / len(df[df['city'] == 'Yangon'])\n",
        "P_Member_Rating_above_8 = len(df[(df['customer type'] == 'Member') & (df['rating'] > 8)]) / total_transactions\n",
        "\n",
        "print(f'P(Health & Beauty): {P_Health_Beauty}')\n",
        "print(f'P(Qty > 5 | Ewallet): {P_more_than_5_given_Ewallet}')\n",
        "print(f'P(Cash | Yangon): {P_Cash_Yangon}')\n",
        "print(f'P(Member & Rating > 8): {P_Member_Rating_above_8}')"
      ],
      "metadata": {
        "colab": {
          "base_uri": "https://localhost:8080/"
        },
        "id": "sSmX_5d6Msvj",
        "outputId": "19b8fca6-a19f-4cb9-b95e-354d42c514fe"
      },
      "execution_count": 4,
      "outputs": [
        {
          "output_type": "stream",
          "name": "stdout",
          "text": [
            "P(Health & Beauty): 0.0\n",
            "P(Qty > 5 | Ewallet): 0.48695652173913045\n",
            "P(Cash | Yangon): 0.3235294117647059\n",
            "P(Member & Rating > 8): 0.157\n"
          ]
        }
      ]
    },
    {
      "cell_type": "code",
      "source": [
        "def factorial(n):\n",
        "    return math.factorial(n)\n",
        "\n",
        "def permutation(n, r):\n",
        "    if r > n:\n",
        "        return 0\n",
        "    return math.factorial(n) // math.factorial(n - r)\n",
        "\n",
        "def combination(n, r):\n",
        "    return math.factorial(n) // (math.factorial(r) * math.factorial(n - r))\n",
        "\n",
        "perm_5_20 = permutation(20, 5)\n",
        "comb_3_6 = combination(6, 3)\n",
        "factorial_branches = factorial(len(df['branch'].unique()))\n",
        "payment_methods_permutation = permutation(3, 4)\n",
        "comb_5_15 = combination(15, 5)\n",
        "invoice_codes = permutation(26, 6)\n",
        "\n",
        "print(f'Permutation(20, 5): {perm_5_20}')\n",
        "print(f'Combination(6, 3): {comb_3_6}')\n",
        "print(f'Factorial(Branches): {factorial_branches}')\n",
        "print(f'Permutation(3, 4): {payment_methods_permutation}')\n",
        "print(f'Combination(15, 5): {comb_5_15}')\n",
        "print(f'Permutation(26, 6): {invoice_codes}')"
      ],
      "metadata": {
        "colab": {
          "base_uri": "https://localhost:8080/"
        },
        "id": "dBZRj1CSMzYP",
        "outputId": "964c2b0e-c0b2-4131-c9e5-715716c6629a"
      },
      "execution_count": 5,
      "outputs": [
        {
          "output_type": "stream",
          "name": "stdout",
          "text": [
            "Permutation(20, 5): 1860480\n",
            "Combination(6, 3): 20\n",
            "Factorial(Branches): 6\n",
            "Permutation(3, 4): 0\n",
            "Combination(15, 5): 3003\n",
            "Permutation(26, 6): 165765600\n"
          ]
        }
      ]
    }
  ]
}